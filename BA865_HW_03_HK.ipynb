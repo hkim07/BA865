{
  "nbformat": 4,
  "nbformat_minor": 0,
  "metadata": {
    "accelerator": "GPU",
    "colab": {
      "name": "BA865_HW_03_HK.ipynb",
      "provenance": [],
      "collapsed_sections": [],
      "include_colab_link": true
    },
    "kernelspec": {
      "display_name": "Python 3",
      "language": "python",
      "name": "python3"
    },
    "language_info": {
      "codemirror_mode": {
        "name": "ipython",
        "version": 3
      },
      "file_extension": ".py",
      "mimetype": "text/x-python",
      "name": "python",
      "nbconvert_exporter": "python",
      "pygments_lexer": "ipython3",
      "version": "3.7.3"
    }
  },
  "cells": [
    {
      "cell_type": "markdown",
      "metadata": {
        "id": "view-in-github",
        "colab_type": "text"
      },
      "source": [
        "<a href=\"https://colab.research.google.com/github/hkim07/BA865/blob/master/BA865_HW_03_HK.ipynb\" target=\"_parent\"><img src=\"https://colab.research.google.com/assets/colab-badge.svg\" alt=\"Open In Colab\"/></a>"
      ]
    },
    {
      "cell_type": "markdown",
      "metadata": {
        "colab_type": "text",
        "id": "fDEQjuu_iJ3g"
      },
      "source": [
        "# HW 03 - Create a word2vec model"
      ]
    },
    {
      "cell_type": "markdown",
      "metadata": {
        "colab_type": "text",
        "id": "bRrPQL2diJ3j"
      },
      "source": [
        "<font color=blue size=4>\n",
        "Before you submit this assignment, please carefully read these submission instructions. You must name this .ipynb file:\n",
        "<br><br>\n",
        "yourlastname_yourfirstname_HW3.ipynb\n",
        "<br><br>\n",
        "You must turn in this assignment by uploading the \n",
        ".ipynb file to the assignment on questrom tools. You will also need to print out a hard copy of this notebook (File->Print from colab) with the output from running all the code cells, and hand it in on the class following the due date. Do not email me the file.\n",
        "<br><br>\n",
        "Points will be deducted for improper submission!\n",
        "</font>\n",
        "\n",
        "For this assignment, by using the Pytorch library, we will create a word2vec model that infers contexts of words. Word2vec is first introduced in 2013 by Mikolov et al. at Google (https://arxiv.org/pdf/1301.3781.pdf, https://papers.nips.cc/paper/5021-distributed-representations-of-words-and-phrases-and-their-compositionality.pdf) and has been a popular machine learning model implemented in real cases. \n",
        "\n",
        "https://blog.acolyer.org/2016/04/21/the-amazing-power-of-word-vectors/ is a great overview of word2vec. Please read the blog carefully before you create a word2vec model for this assignment. Specifically, you will build a \"Continuous Bag-of-Words Model (CBOW)\" model. CBOW predicts a target word from its neighbors' contexts. The following Youtube videos also explain the concept of the CBOW model.\n",
        "- https://www.youtube.com/watch?v=UqRCEmrv1gQ\n",
        "- https://www.youtube.com/watch?v=gQddtTdmG_8 \n",
        "\n",
        "\n",
        "<img src=\"https://i2.wp.com/www.stokastik.in/wp-content/uploads/2017/04/Screen-Shot-2017-05-16-at-8.48.52-PM.png?w=596\">\n",
        "\n",
        "[CBOW structure from http://www.stokastik.in/understanding-word-vectors-and-word2vec/]"
      ]
    },
    {
      "cell_type": "markdown",
      "metadata": {
        "colab_type": "text",
        "id": "rayw7XfBiJ3u"
      },
      "source": [
        "Your task is to create a CBOW class called `CBOW`. `CBOW` has the following properties under the structure given at the figure above.\n",
        "\n",
        "- `vocab_size` - Size of vocabulary($V$). Note that vocabulary is a set of unique words in a corpus and corpus is a set of texts\n",
        "- `embed_dim` - Dimension of embedding vector\n",
        "- `window_size` - Size of window. If a target word is $t$, CBOW model uses embedding vectors of words between ($t$-window_size) and ($t$+window_size) to predict the target word\n",
        "- `hidden_dim` - Dimension of the hidden layer ($N$)\n",
        "\n",
        "`CBOW` consists of three layers.\n",
        "\n",
        "- `embedding` - An embedding layer that is initialized with `torch.nn.Embedding`\n",
        "- `fc1` - A linear transformation that connects the embedding layer to the hidden layer. `torch.nn.functional.relu` activation should be applied to the output of `fc1`.\n",
        "- `fc2` - A linear transformation that connects the activation of `fc1` to a tensor of length `vocab_size`. \n",
        "\n",
        "Input of `CBOW` is a tensor of length (2 * `window_size`). Input's elements are indices of neighboring words of the target word. You need to convert neighboring words into a tensor of word indices. Once you make a tensor of word indices, use this input to slice embedding vectors from `self.embedding` and train your model to reduce `torch.nn.CrossEntropyLoss` for the output of `fc2` and the index of the target word."
      ]
    },
    {
      "cell_type": "markdown",
      "metadata": {
        "colab_type": "text",
        "id": "P6uzFDXFiJ3v"
      },
      "source": [
        "We will use restaurant customer reviews for this assignment - https://www.kaggle.com/vigneshwarsofficial/reviews/. **Do not change the code block below**. Use `cleaned_text` to learn word contexts."
      ]
    },
    {
      "cell_type": "code",
      "metadata": {
        "colab_type": "code",
        "id": "SYTmVZStiJ3w",
        "colab": {}
      },
      "source": [
        "import pandas as pd\n",
        "import string\n",
        "\n",
        "def clean_text(text):    \n",
        "    x = text.translate(str.maketrans('', '', string.punctuation)) # remove punctuation\n",
        "    x = x.lower().split() # lower case and split by whitespace to differentiate words\n",
        "    return x\n",
        "\n",
        "example_text = pd.read_csv('https://raw.githubusercontent.com/hkim07/data/master/hw3.csv')\n",
        "cleaned_text = example_text.Review[:100].apply(clean_text)"
      ],
      "execution_count": 0,
      "outputs": []
    },
    {
      "cell_type": "markdown",
      "metadata": {
        "colab_type": "text",
        "id": "Il_yCCJAiJ32"
      },
      "source": [
        "Train your CBOW model for 100 epochs with `embed_dim`=100, `window_size`=2, and `hidden_dim`=30. \n",
        "- Do not split the data into training and test sets. \n",
        "- Use the SGD optimizer with learning rate = 0.001.\n",
        "- Save loss at every epoch. "
      ]
    },
    {
      "cell_type": "markdown",
      "metadata": {
        "colab_type": "text",
        "id": "HEl72ZkpTaQ-"
      },
      "source": [
        "## Create a CBOW Class"
      ]
    },
    {
      "cell_type": "code",
      "metadata": {
        "colab_type": "code",
        "id": "4QQycg3vFhf8",
        "colab": {}
      },
      "source": [
        "#INSERT YOUR CODES HERE"
      ],
      "execution_count": 0,
      "outputs": []
    },
    {
      "cell_type": "code",
      "metadata": {
        "colab_type": "code",
        "id": "x8u9nrzCk7a3",
        "outputId": "4f4c27bc-aef8-47f7-9b04-aeed8d200648",
        "colab": {
          "base_uri": "https://localhost:8080/",
          "height": 34
        }
      },
      "source": [
        "import string, itertools\n",
        "import pandas as pd\n",
        "import matplotlib.pyplot as plt\n",
        "import torch\n",
        "import torch.nn as nn\n",
        "import torch.nn.functional as F\n",
        "import torch.optim as optim\n",
        "from collections import Counter\n",
        "\n",
        "vocab = list(itertools.chain(*cleaned_text))\n",
        "vocab = set(vocab)\n",
        "print(\"The size of vocabulary is\", len(vocab))\n",
        "\n",
        "# dictionary to get word index\n",
        "word_to_index = {word: i for i, word in enumerate(vocab)}\n",
        "\n",
        "# Parameters\n",
        "VOCAB_SIZE = len(vocab)\n",
        "EMBED_DIM = 100\n",
        "WINDOW_SIZE = 2\n",
        "HIDDEN_DIM = 30\n",
        "N_EPOCHS = 100"
      ],
      "execution_count": 2,
      "outputs": [
        {
          "output_type": "stream",
          "text": [
            "The size of vocabulary is 483\n"
          ],
          "name": "stdout"
        }
      ]
    },
    {
      "cell_type": "code",
      "metadata": {
        "colab_type": "code",
        "id": "oPlptvgzxYkG",
        "colab": {}
      },
      "source": [
        "\"\"\"\n",
        "[References]\n",
        "https://pytorch.org/tutorials/beginner/nlp/word_embeddings_tutorial.html\n",
        "https://github.com/jojonki/word2vec-pytorch/blob/master/word2vec.ipynb\n",
        "\"\"\"\n",
        "\n",
        "def make_cbow_data(text, window_size):\n",
        "    cbow_data = []\n",
        "    for i in range(window_size, len(text)-window_size):\n",
        "        # format: (2*window_size - neighboring words, one target word) \n",
        "        cbow_data.append((text[i-window_size:i] + text[i+1:i+window_size+1], text[i])) \n",
        "    return cbow_data\n",
        "\n",
        "cbow_data = [make_cbow_data(x, window_size = WINDOW_SIZE) for x in cleaned_text]\n",
        "\n",
        "\n",
        "class CBOW(nn.Module):\n",
        "\n",
        "    def __init__(self, vocab_size, embed_dim, window_size, hidden_dim):\n",
        "        super(CBOW, self).__init__()\n",
        "        self.embedding = nn.Embedding(vocab_size, embed_dim, sparse=True)\n",
        "        self.fc1 = nn.Linear(2*window_size*embed_dim, hidden_dim)\n",
        "        self.fc2 = nn.Linear(hidden_dim, vocab_size)\n",
        "        \n",
        "    def forward(self, x):\n",
        "        x = self.embedding(x).view((1,-1))\n",
        "        x = F.relu(self.fc1(x))\n",
        "        x = self.fc2(x)\n",
        "        return x"
      ],
      "execution_count": 0,
      "outputs": []
    },
    {
      "cell_type": "markdown",
      "metadata": {
        "colab_type": "text",
        "id": "M1gYhtWBx88h"
      },
      "source": [
        "## Train the CBOW model"
      ]
    },
    {
      "cell_type": "code",
      "metadata": {
        "id": "35ybUlZs14Ud",
        "colab_type": "code",
        "colab": {}
      },
      "source": [
        "#INSERT YOUR CODES HERE"
      ],
      "execution_count": 0,
      "outputs": []
    },
    {
      "cell_type": "code",
      "metadata": {
        "colab_type": "code",
        "id": "enWY1OYDV3TZ",
        "outputId": "8ce76aa8-0f50-4000-82e8-f8bafebdf4bc",
        "colab": {
          "base_uri": "https://localhost:8080/",
          "height": 306
        }
      },
      "source": [
        "def train_cbow(data, n_epochs=1):\n",
        "    model = CBOW(VOCAB_SIZE, EMBED_DIM, WINDOW_SIZE, HIDDEN_DIM)\n",
        "    print(model) # print model structure\n",
        "    losses = []\n",
        "    loss_func = nn.CrossEntropyLoss()\n",
        "    optimizer = optim.SGD(model.parameters(), lr=0.001)    \n",
        "    for i in range(n_epochs):\n",
        "        total_loss = 0.0\n",
        "        for sent in data:\n",
        "            for context, target in sent:\n",
        "                model.zero_grad() # gradients should not be accumulated\n",
        "                input = torch.tensor([word_to_index[w] for w in context])\n",
        "                output = model.forward(input)\n",
        "                loss = loss_func(output, torch.tensor([word_to_index[target]], dtype=torch.long))\n",
        "                loss.backward() # back propagation\n",
        "                optimizer.step() # update parameters\n",
        "                total_loss += loss.item()\n",
        "        losses.append(total_loss)\n",
        "        if i%10==9: print(total_loss)\n",
        "    return model, losses\n",
        "\n",
        "%time trained_model, trained_losses = train_cbow(cbow_data, n_epochs=N_EPOCHS)"
      ],
      "execution_count": 4,
      "outputs": [
        {
          "output_type": "stream",
          "text": [
            "CBOW(\n",
            "  (embedding): Embedding(483, 100, sparse=True)\n",
            "  (fc1): Linear(in_features=400, out_features=30, bias=True)\n",
            "  (fc2): Linear(in_features=30, out_features=483, bias=True)\n",
            ")\n",
            "3606.846691250801\n",
            "2796.7844499647617\n",
            "2150.0482067093253\n",
            "1580.1751106828451\n",
            "1081.6504763355479\n",
            "681.6839353749529\n",
            "404.1367898671888\n",
            "238.20048379723448\n",
            "148.49916994571686\n",
            "101.07532627956243\n",
            "CPU times: user 52.3 s, sys: 3.14 s, total: 55.4 s\n",
            "Wall time: 56.1 s\n"
          ],
          "name": "stdout"
        }
      ]
    },
    {
      "cell_type": "markdown",
      "metadata": {
        "colab_type": "text",
        "id": "lE_aC7oJx2xC"
      },
      "source": [
        "## Plot losses by epochs (x-axis: epoch, y-axis: loss)"
      ]
    },
    {
      "cell_type": "code",
      "metadata": {
        "id": "xdAEHlvX14Ur",
        "colab_type": "code",
        "colab": {}
      },
      "source": [
        "#INSERT YOUR CODES HERE"
      ],
      "execution_count": 0,
      "outputs": []
    },
    {
      "cell_type": "code",
      "metadata": {
        "colab_type": "code",
        "id": "HS9KKjHArfTd",
        "outputId": "d28a421d-5540-4769-df25-f22bd031e5ff",
        "colab": {
          "base_uri": "https://localhost:8080/",
          "height": 305
        }
      },
      "source": [
        "plt.plot(range(len(trained_losses)), trained_losses)\n",
        "plt.xlabel('Epochs', fontsize=20)\n",
        "plt.ylabel('Loss', fontsize=20)"
      ],
      "execution_count": 5,
      "outputs": [
        {
          "output_type": "execute_result",
          "data": {
            "text/plain": [
              "Text(0, 0.5, 'Loss')"
            ]
          },
          "metadata": {
            "tags": []
          },
          "execution_count": 5
        },
        {
          "output_type": "display_data",
          "data": {
            "image/png": "[encoded data removed]",
            "text/plain": [
              "<Figure size 432x288 with 1 Axes>"
            ]
          },
          "metadata": {
            "tags": []
          }
        }
      ]
    },
    {
      "cell_type": "markdown",
      "metadata": {
        "colab_type": "text",
        "id": "GWj-u7YJFxF7"
      },
      "source": [
        "## Print five most similar words with the word \"delicious\""
      ]
    },
    {
      "cell_type": "markdown",
      "metadata": {
        "colab_type": "text",
        "id": "vvxTFjD7GCDc"
      },
      "source": [
        "You can access embedding vectors through `model.embedding.weight.data`. Find five most similar words with the word \"delicious\" by calculating cosine similarity between the embedding vector of \"delicious\" and embedding vectors of other words. "
      ]
    },
    {
      "cell_type": "code",
      "metadata": {
        "id": "rS5bfhBW14U_",
        "colab_type": "code",
        "colab": {}
      },
      "source": [
        "#INSERT YOUR CODES HERE"
      ],
      "execution_count": 0,
      "outputs": []
    },
    {
      "cell_type": "code",
      "metadata": {
        "colab_type": "code",
        "id": "xZ3NQY95iJ4j",
        "outputId": "23172548-cb26-4449-f560-46d2c416f6ab",
        "colab": {
          "base_uri": "https://localhost:8080/",
          "height": 102
        }
      },
      "source": [
        "mat = trained_model.embedding.weight.data.numpy()\n",
        "obs_ix = word_to_index['delicious']\n",
        "obs_vec = trained_model.embedding.weight.data[obs_ix]\n",
        "\n",
        "from sklearn.metrics.pairwise import cosine_similarity\n",
        "\n",
        "sims = []\n",
        "listed_vocab = list(vocab)\n",
        "obs_sim = cosine_similarity(mat)[obs_ix]\n",
        "for i in range(len(listed_vocab)):\n",
        "    sims.append([listed_vocab[i], obs_sim[i]])\n",
        "\n",
        "sorted(sims, key=lambda x: x[1], reverse=True)[1:6]"
      ],
      "execution_count": 6,
      "outputs": [
        {
          "output_type": "execute_result",
          "data": {
            "text/plain": [
              "[['care', 0.26426995],\n",
              " ['meh', 0.25803915],\n",
              " ['six', 0.23708118],\n",
              " ['also', 0.22749554],\n",
              " ['ripped', 0.22527032]]"
            ]
          },
          "metadata": {
            "tags": []
          },
          "execution_count": 6
        }
      ]
    },
    {
      "cell_type": "markdown",
      "metadata": {
        "id": "UJrmuZEE5ETn",
        "colab_type": "text"
      },
      "source": [
        "While the model learns contexts as embedding vectors, the model still does perform badly. This is mainly due to the lack of data. Google trained a word2vec model based on large-scale data (about 100 billion words), and this model captures similarity between words well. You can find the pretrained model at https://code.google.com/archive/p/word2vec/."
      ]
    }
  ]
}